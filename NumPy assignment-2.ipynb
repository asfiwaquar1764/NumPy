{
 "cells": [
  {
   "cell_type": "markdown",
   "id": "8e603d68",
   "metadata": {},
   "source": [
    "Creating NumPy arrays"
   ]
  },
  {
   "cell_type": "code",
   "execution_count": 1,
   "id": "9b496da8",
   "metadata": {},
   "outputs": [],
   "source": [
    "import numpy as np"
   ]
  },
  {
   "cell_type": "code",
   "execution_count": 2,
   "id": "f3bdd690",
   "metadata": {},
   "outputs": [],
   "source": [
    "# create a 1-dimensional array"
   ]
  },
  {
   "cell_type": "code",
   "execution_count": 3,
   "id": "7a9b3f2d",
   "metadata": {},
   "outputs": [],
   "source": [
    "a = np.array([1,2,3,4,5])"
   ]
  },
  {
   "cell_type": "code",
   "execution_count": 32,
   "id": "4375c9eb",
   "metadata": {},
   "outputs": [
    {
     "data": {
      "text/plain": [
       "array([4, 3, 7])"
      ]
     },
     "execution_count": 32,
     "metadata": {},
     "output_type": "execute_result"
    }
   ],
   "source": [
    "a"
   ]
  },
  {
   "cell_type": "code",
   "execution_count": 5,
   "id": "3ac6acf3",
   "metadata": {},
   "outputs": [],
   "source": [
    "# create a 2-dimensional array"
   ]
  },
  {
   "cell_type": "code",
   "execution_count": 6,
   "id": "e1e36bcd",
   "metadata": {},
   "outputs": [],
   "source": [
    "b = np.array([[1, 2, 3],[4, 5, 6]])"
   ]
  },
  {
   "cell_type": "code",
   "execution_count": 31,
   "id": "ba55e503",
   "metadata": {},
   "outputs": [
    {
     "data": {
      "text/plain": [
       "array([7, 4, 1])"
      ]
     },
     "execution_count": 31,
     "metadata": {},
     "output_type": "execute_result"
    }
   ],
   "source": [
    "b"
   ]
  },
  {
   "cell_type": "code",
   "execution_count": 8,
   "id": "dc54b02a",
   "metadata": {},
   "outputs": [],
   "source": [
    "# create an array of zeros"
   ]
  },
  {
   "cell_type": "code",
   "execution_count": 9,
   "id": "b88d1c47",
   "metadata": {},
   "outputs": [],
   "source": [
    "c = np.zeros((3,4))"
   ]
  },
  {
   "cell_type": "code",
   "execution_count": 30,
   "id": "92026cff",
   "metadata": {},
   "outputs": [
    {
     "data": {
      "text/plain": [
       "array([11,  7,  8])"
      ]
     },
     "execution_count": 30,
     "metadata": {},
     "output_type": "execute_result"
    }
   ],
   "source": [
    "c"
   ]
  },
  {
   "cell_type": "code",
   "execution_count": 11,
   "id": "91457f8a",
   "metadata": {},
   "outputs": [],
   "source": [
    "# create an array of ones"
   ]
  },
  {
   "cell_type": "code",
   "execution_count": 12,
   "id": "aac8170f",
   "metadata": {},
   "outputs": [],
   "source": [
    "d = np.ones((2,2))"
   ]
  },
  {
   "cell_type": "code",
   "execution_count": 13,
   "id": "a5d7dbeb",
   "metadata": {},
   "outputs": [
    {
     "data": {
      "text/plain": [
       "array([[1., 1.],\n",
       "       [1., 1.]])"
      ]
     },
     "execution_count": 13,
     "metadata": {},
     "output_type": "execute_result"
    }
   ],
   "source": [
    "d"
   ]
  },
  {
   "cell_type": "markdown",
   "id": "4a8b87cc",
   "metadata": {},
   "source": [
    "Performing mathematical operation on NumPy arrays"
   ]
  },
  {
   "cell_type": "code",
   "execution_count": 14,
   "id": "50ccf479",
   "metadata": {},
   "outputs": [],
   "source": [
    "# add two arrays"
   ]
  },
  {
   "cell_type": "code",
   "execution_count": 16,
   "id": "981f0687",
   "metadata": {},
   "outputs": [],
   "source": [
    "a = np.array([4, 3, 7])"
   ]
  },
  {
   "cell_type": "code",
   "execution_count": 17,
   "id": "4a6611b0",
   "metadata": {},
   "outputs": [],
   "source": [
    "b = np.array([7, 4, 1])"
   ]
  },
  {
   "cell_type": "code",
   "execution_count": 18,
   "id": "d8020ded",
   "metadata": {},
   "outputs": [],
   "source": [
    "c = a + b"
   ]
  },
  {
   "cell_type": "code",
   "execution_count": 19,
   "id": "504b61e4",
   "metadata": {},
   "outputs": [
    {
     "data": {
      "text/plain": [
       "array([11,  7,  8])"
      ]
     },
     "execution_count": 19,
     "metadata": {},
     "output_type": "execute_result"
    }
   ],
   "source": [
    "c"
   ]
  },
  {
   "cell_type": "code",
   "execution_count": 20,
   "id": "ca776517",
   "metadata": {},
   "outputs": [],
   "source": [
    "# multiply two arrays"
   ]
  },
  {
   "cell_type": "code",
   "execution_count": 21,
   "id": "bee565bc",
   "metadata": {},
   "outputs": [],
   "source": [
    "d = np.array([[3, 4],[6, 2]])"
   ]
  },
  {
   "cell_type": "code",
   "execution_count": 22,
   "id": "52a970d3",
   "metadata": {},
   "outputs": [],
   "source": [
    "e = np.array([[3, 4],[7, 2]])"
   ]
  },
  {
   "cell_type": "code",
   "execution_count": 23,
   "id": "73bebccc",
   "metadata": {},
   "outputs": [],
   "source": [
    "f = d * e"
   ]
  },
  {
   "cell_type": "code",
   "execution_count": 24,
   "id": "50b436f6",
   "metadata": {},
   "outputs": [
    {
     "data": {
      "text/plain": [
       "array([[ 9, 16],\n",
       "       [42,  4]])"
      ]
     },
     "execution_count": 24,
     "metadata": {},
     "output_type": "execute_result"
    }
   ],
   "source": [
    "f"
   ]
  },
  {
   "cell_type": "code",
   "execution_count": 25,
   "id": "0a0908a7",
   "metadata": {},
   "outputs": [],
   "source": [
    "# perform matrix multiplication"
   ]
  },
  {
   "cell_type": "code",
   "execution_count": 26,
   "id": "77335fe5",
   "metadata": {},
   "outputs": [],
   "source": [
    "g = np.array([[3, 3],[4, 4]])"
   ]
  },
  {
   "cell_type": "code",
   "execution_count": 27,
   "id": "ee682a37",
   "metadata": {},
   "outputs": [],
   "source": [
    "h = np.array([[5, 4],[6, 3]])"
   ]
  },
  {
   "cell_type": "code",
   "execution_count": 28,
   "id": "fa36a977",
   "metadata": {},
   "outputs": [],
   "source": [
    "i = np.dot(g, h)"
   ]
  },
  {
   "cell_type": "code",
   "execution_count": 29,
   "id": "06a4a4b8",
   "metadata": {},
   "outputs": [
    {
     "data": {
      "text/plain": [
       "array([[33, 21],\n",
       "       [44, 28]])"
      ]
     },
     "execution_count": 29,
     "metadata": {},
     "output_type": "execute_result"
    }
   ],
   "source": [
    "i"
   ]
  },
  {
   "cell_type": "code",
   "execution_count": null,
   "id": "e7446fda",
   "metadata": {},
   "outputs": [],
   "source": []
  }
 ],
 "metadata": {
  "kernelspec": {
   "display_name": "Python 3 (ipykernel)",
   "language": "python",
   "name": "python3"
  },
  "language_info": {
   "codemirror_mode": {
    "name": "ipython",
    "version": 3
   },
   "file_extension": ".py",
   "mimetype": "text/x-python",
   "name": "python",
   "nbconvert_exporter": "python",
   "pygments_lexer": "ipython3",
   "version": "3.9.7"
  }
 },
 "nbformat": 4,
 "nbformat_minor": 5
}
